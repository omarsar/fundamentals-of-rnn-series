{
 "cells": [
  {
   "cell_type": "markdown",
   "metadata": {},
   "source": [
    "### This notebook demonstrates a basic example of how to create a vocabulary from input texts, and tranform text into vector format.\n",
    "The purpose is to point out some of the different problems faced in sequence modeling with traditional methods."
   ]
  },
  {
   "cell_type": "code",
   "execution_count": 1,
   "metadata": {},
   "outputs": [],
   "source": [
    "import tensorflow as tf\n",
    "import os\n",
    "import numpy as np\n",
    "os.environ['CUDA_VISIBLE_DEVICES'] = '' # avoids using GPU for this session"
   ]
  },
  {
   "cell_type": "markdown",
   "metadata": {},
   "source": [
    "### Data Transformation\n",
    "- Create a vocab from input texts\n",
    "- Create a 1/0 vector for the input text"
   ]
  },
  {
   "cell_type": "code",
   "execution_count": 2,
   "metadata": {},
   "outputs": [],
   "source": [
    "sentences = [\"The food was good not bad at all\", \"The food was bad not good at all\", \"I love the coldness\"]\n",
    "labels = [\"happy\", \"sad\", \"happy\"]"
   ]
  },
  {
   "cell_type": "code",
   "execution_count": 3,
   "metadata": {},
   "outputs": [],
   "source": [
    "### create vocabulary\n",
    "def create_vocab(ss):\n",
    "    vocab = []\n",
    "    [vocab.append(w) for s in ss for w in s.split() if w not in vocab]    \n",
    "    return vocab"
   ]
  },
  {
   "cell_type": "code",
   "execution_count": 4,
   "metadata": {},
   "outputs": [],
   "source": [
    "vocab = create_vocab(sentences)"
   ]
  },
  {
   "cell_type": "code",
   "execution_count": 5,
   "metadata": {},
   "outputs": [],
   "source": [
    "### create BoW vector\n",
    "def create_vector(vocab, s):\n",
    "    vector = np.zeros((len(vocab)))\n",
    "    for w in s.split():\n",
    "        vector[vocab.index(w)] = 1\n",
    "    return vector"
   ]
  },
  {
   "cell_type": "code",
   "execution_count": 6,
   "metadata": {},
   "outputs": [
    {
     "data": {
      "text/plain": [
       "array([0., 0., 0., 0., 0., 0., 0., 0., 1., 1., 1., 1.])"
      ]
     },
     "execution_count": 6,
     "metadata": {},
     "output_type": "execute_result"
    }
   ],
   "source": [
    "create_vector(vocab, sentences[2])"
   ]
  },
  {
   "cell_type": "markdown",
   "metadata": {},
   "source": [
    "### Feed into 2 hidden layer neural network"
   ]
  },
  {
   "cell_type": "code",
   "execution_count": 7,
   "metadata": {},
   "outputs": [],
   "source": [
    "n_input = len(vocab)\n",
    "n_classes = 2\n",
    "\n",
    "X = tf.placeholder(tf.float32, [None, n_input])\n",
    "Y = tf.placeholder(tf.float32, [None, n_classes])\n",
    "\n",
    "### TODO: can be refactored to dictionary format\n",
    "W1 = tf.Variable(tf.random_normal(shape=[n_input, n_classes], dtype=tf.float32))\n",
    "b1 = tf.Variable(tf.random_normal(shape=[n_classes], dtype=tf.float32))\n",
    "hidden_1 = tf.matmul(X, W1) + b1\n",
    "\n",
    "W2 = tf.Variable(tf.random_normal(shape=[n_classes, n_classes], dtype=tf.float32))\n",
    "b2 = tf.Variable(tf.random_normal(shape=[n_classes], dtype=tf.float32))\n",
    "\n",
    "### TODO: can apply activation on output\n",
    "output = tf.matmul(hidden_1, W2) + b2"
   ]
  },
  {
   "cell_type": "code",
   "execution_count": 8,
   "metadata": {},
   "outputs": [
    {
     "name": "stdout",
     "output_type": "stream",
     "text": [
      "[array([[2.3146973, 1.5333501]], dtype=float32)]\n",
      "[array([[2.3146973, 1.5333501]], dtype=float32)]\n",
      "[array([[-9.740375 , -5.6059237]], dtype=float32)]\n"
     ]
    }
   ],
   "source": [
    "with tf.Session() as sess:\n",
    "    init = tf.global_variables_initializer()\n",
    "    sess.run(init)\n",
    "    for i in range(len(sentences)):\n",
    "        input_x = create_vector(vocab, sentences[i]).reshape((1,-1))\n",
    "        input_y = create_vector(list(set(labels)), labels[i]).reshape((1,-1))\n",
    "        hidden = sess.run([output], feed_dict = {X:input_x, Y:input_y})\n",
    "        print (hidden)"
   ]
  },
  {
   "cell_type": "code",
   "execution_count": null,
   "metadata": {},
   "outputs": [],
   "source": []
  }
 ],
 "metadata": {
  "kernelspec": {
   "display_name": "Python 3",
   "language": "python",
   "name": "python3"
  },
  "language_info": {
   "codemirror_mode": {
    "name": "ipython",
    "version": 3
   },
   "file_extension": ".py",
   "mimetype": "text/x-python",
   "name": "python",
   "nbconvert_exporter": "python",
   "pygments_lexer": "ipython3",
   "version": "3.6.1"
  }
 },
 "nbformat": 4,
 "nbformat_minor": 2
}
